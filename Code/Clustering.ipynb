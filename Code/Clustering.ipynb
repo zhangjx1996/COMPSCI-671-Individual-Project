{
 "cells": [
  {
   "cell_type": "code",
   "execution_count": 238,
   "id": "a1c7b5a6",
   "metadata": {},
   "outputs": [],
   "source": [
    "# Import packages\n",
    "import pyreadr\n",
    "import pandas as pd\n",
    "import numpy as np\n",
    "import matplotlib.pyplot as plt\n",
    "import timeit\n",
    "\n",
    "\n",
    "# Pacakges for dimensional reduction procedure\n",
    "from sklearn.decomposition import PCA\n",
    "from ZIFA import ZIFA\n",
    "from ZIFA import block_ZIFA\n",
    "\n",
    "# Pacakges for different clustering method\n",
    "# Hierarchical Clustering\n",
    "from sklearn.cluster import AgglomerativeClustering\n",
    "# K Means\n",
    "from sklearn.cluster import KMeans\n",
    "# KNN\n",
    "from sklearn.neighbors import NearestNeighbors\n",
    "# Gaussian Mixture Model\n",
    "from sklearn.mixture import GaussianMixture\n",
    "\n",
    "from sklearn.metrics import accuracy_score\n",
    "\n",
    "\n",
    "# Set random seed\n",
    "import random\n",
    "random.seed(25)"
   ]
  },
  {
   "cell_type": "markdown",
   "id": "4006d5fb",
   "metadata": {},
   "source": [
    "## Data Import and Pre-process"
   ]
  },
  {
   "cell_type": "code",
   "execution_count": 19,
   "id": "4f94ec26",
   "metadata": {},
   "outputs": [],
   "source": [
    "# Import data from rds file\n",
    "count = pyreadr.read_r('../Data/Tcell_5type_filtered.rds')\n",
    "count = count[None]\n",
    "label = pyreadr.read_r('../Data/Tcell_5type_filtered_labels.rds')\n",
    "label = label[None]"
   ]
  },
  {
   "cell_type": "code",
   "execution_count": 31,
   "id": "e34f87bb",
   "metadata": {},
   "outputs": [],
   "source": [
    "# Extract the read count array\n",
    "count_array = count.to_numpy()"
   ]
  },
  {
   "cell_type": "code",
   "execution_count": 151,
   "id": "5dd20d41",
   "metadata": {},
   "outputs": [
    {
     "data": {
      "text/plain": [
       "array([[0., 1., 0., ..., 0., 0., 0.],\n",
       "       [0., 0., 0., ..., 0., 0., 0.],\n",
       "       [0., 0., 0., ..., 0., 0., 1.],\n",
       "       ...,\n",
       "       [0., 0., 0., ..., 0., 0., 0.],\n",
       "       [0., 2., 1., ..., 0., 1., 2.],\n",
       "       [0., 0., 0., ..., 0., 0., 0.]])"
      ]
     },
     "execution_count": 151,
     "metadata": {},
     "output_type": "execute_result"
    }
   ],
   "source": [
    "count_array"
   ]
  },
  {
   "cell_type": "code",
   "execution_count": 195,
   "id": "c1ce4097",
   "metadata": {},
   "outputs": [],
   "source": [
    "# Change labels to integer\n",
    "new_cluster = dict(zip(list(set(label['Group'])), list(range(5))))\n",
    "new_label = []\n",
    "for k in range(len(list(label['Group']))):\n",
    "    old_label = list(label['Group'])[k]\n",
    "    new_label.append(new_cluster[old_label])"
   ]
  },
  {
   "cell_type": "markdown",
   "id": "81ef9637",
   "metadata": {},
   "source": [
    "## PCA"
   ]
  },
  {
   "cell_type": "code",
   "execution_count": 35,
   "id": "086c3b4a",
   "metadata": {},
   "outputs": [],
   "source": [
    "# Implement PCA\n",
    "pca = PCA(n_components=50)\n",
    "count_array_pca = pca.fit_transform(np.transpose(count_array))"
   ]
  },
  {
   "cell_type": "code",
   "execution_count": 36,
   "id": "714e51af",
   "metadata": {},
   "outputs": [
    {
     "data": {
      "text/plain": [
       "(2989, 50)"
      ]
     },
     "execution_count": 36,
     "metadata": {},
     "output_type": "execute_result"
    }
   ],
   "source": [
    "# Check the dim of the array after PCA transformation\n",
    "count_array_pca.shape"
   ]
  },
  {
   "cell_type": "markdown",
   "id": "f5e423e0",
   "metadata": {},
   "source": [
    "## ZIFA"
   ]
  },
  {
   "cell_type": "code",
   "execution_count": 42,
   "id": "77556b84",
   "metadata": {},
   "outputs": [],
   "source": [
    "# compute the log count array by log2(1 + count_data)\n",
    "log_count_array = np.log(1 + count_array)"
   ]
  },
  {
   "cell_type": "code",
   "execution_count": 43,
   "id": "3e862a4d",
   "metadata": {},
   "outputs": [
    {
     "name": "stdout",
     "output_type": "stream",
     "text": [
      "Filtering out all genes which are zero in more than 90.0% of samples. To change this, change p0_thresh.\n",
      "Number of blocks has been set to 6\n",
      "Running block zero-inflated factor analysis with N = 2989, D = 3385, K = 50, n_blocks = 6\n",
      "Block sizes [564, 564, 564, 564, 564, 565]\n"
     ]
    }
   ],
   "source": [
    "count_array_ZIFA, model_params = block_ZIFA.fitModel(np.transpose(log_count_array), 50, p0_thresh=0.9)"
   ]
  },
  {
   "cell_type": "code",
   "execution_count": 45,
   "id": "c40b2404",
   "metadata": {},
   "outputs": [],
   "source": [
    "# Store the array to avoid multiple running and save time\n",
    "# Since it takes more than 40 mins to run this procedure, I save the result to a csv file for convenience.\n",
    "pd.DataFrame(count_array_ZIFA).to_csv(\"count_array_ZIFA.csv\")"
   ]
  },
  {
   "cell_type": "code",
   "execution_count": 44,
   "id": "32016b9f",
   "metadata": {},
   "outputs": [
    {
     "data": {
      "text/plain": [
       "(2989, 50)"
      ]
     },
     "execution_count": 44,
     "metadata": {},
     "output_type": "execute_result"
    }
   ],
   "source": [
    "# Check the dim of the array after ZIFA transformation\n",
    "count_array_ZIFA.shape"
   ]
  },
  {
   "cell_type": "markdown",
   "id": "80071418",
   "metadata": {},
   "source": [
    "## Hierarchical Clustering"
   ]
  },
  {
   "cell_type": "code",
   "execution_count": 239,
   "id": "d91d28ac",
   "metadata": {},
   "outputs": [],
   "source": [
    "start = timeit.default_timer()\n",
    "\n",
    "# Hierarchical Clustering on PCA array\n",
    "hc_pca = AgglomerativeClustering(n_clusters=5).fit(count_array_pca)\n",
    "# Obtain Predicted labels\n",
    "hc_pca_pred = hc_pca.labels_\n",
    "\n",
    "stop = timeit.default_timer()\n",
    "# Record Run time\n",
    "hc_pca_time = stop - start"
   ]
  },
  {
   "cell_type": "code",
   "execution_count": 241,
   "id": "02d5b5e5",
   "metadata": {},
   "outputs": [],
   "source": [
    "start = timeit.default_timer()\n",
    "\n",
    "# Hierarchical Clustering on ZIFA array\n",
    "hc_ZIFA = AgglomerativeClustering(n_clusters=5).fit(count_array_ZIFA)\n",
    "# Obtain Predicted labels\n",
    "hc_ZIFA_pred = hc_ZIFA.labels_\n",
    "\n",
    "stop = timeit.default_timer()\n",
    "# Record Run time\n",
    "hc_ZIFA_time = stop - start"
   ]
  },
  {
   "cell_type": "markdown",
   "id": "0d78c3ea",
   "metadata": {},
   "source": [
    "## K Means"
   ]
  },
  {
   "cell_type": "code",
   "execution_count": 242,
   "id": "e061af54",
   "metadata": {},
   "outputs": [],
   "source": [
    "start = timeit.default_timer()\n",
    "\n",
    "# K Means on PCA array\n",
    "kmeans_pca = KMeans(n_clusters=5, random_state=0).fit(count_array_pca)\n",
    "# Obtain Predicted labels\n",
    "kmeans_pca_pred = kmeans_pca.labels_\n",
    "\n",
    "stop = timeit.default_timer()\n",
    "# Record Run time\n",
    "kmeans_pca_time = stop - start"
   ]
  },
  {
   "cell_type": "code",
   "execution_count": 243,
   "id": "af642a36",
   "metadata": {},
   "outputs": [],
   "source": [
    "start = timeit.default_timer()\n",
    "\n",
    "# K Means on ZIFA array\n",
    "kmeans_ZIFA = KMeans(n_clusters=5, random_state=0).fit(count_array_ZIFA)\n",
    "# Obtain Predicted labels\n",
    "kmeans_ZIFA_pred = kmeans_ZIFA.labels_\n",
    "\n",
    "stop = timeit.default_timer()\n",
    "# Record Run time\n",
    "kmeans_ZIFA_time = stop - start"
   ]
  },
  {
   "cell_type": "markdown",
   "id": "f6a87535",
   "metadata": {},
   "source": [
    "## KNN"
   ]
  },
  {
   "cell_type": "code",
   "execution_count": 119,
   "id": "2f92184c",
   "metadata": {},
   "outputs": [],
   "source": [
    "def gather_neighbors(tree):\n",
    "    \"\"\"\n",
    "    This function is used to gather neigbors which is the output from TreeBall algorithm and \n",
    "    make them in the same cluster.\n",
    "    \"\"\"\n",
    "    tree_list = list(tree)\n",
    "    cluster = []\n",
    "    i = len(tree_list)\n",
    "    while(len(tree_list) > 0):\n",
    "        cluster.append(np.array(tree_list[-1]))\n",
    "        n_old = 0\n",
    "        n_new = len(tree_list)\n",
    "        while (n_old != n_new):\n",
    "            # When no update in tree_list, which means that the union of neighborhoods based on the initial \n",
    "            # neighborhood is complete. Then break the inner while loop and initialize with a new neighborhood.\n",
    "            for j in range(n_new - 1, -1, -1):\n",
    "                # Use for loop to determine if two neighborhoods share same data points, union them.\n",
    "                if len(set(tree_list[j]).intersection(set(cluster[-1]))) > 0:\n",
    "                    cluster[-1] = np.array(list(set(tree_list[j]).union(set(cluster[-1]))))\n",
    "                    tree_list.pop(j)\n",
    "            n_old = n_new\n",
    "            n_new = len(tree_list)\n",
    "        \n",
    "    return cluster"
   ]
  },
  {
   "cell_type": "code",
   "execution_count": 245,
   "id": "c852bd90",
   "metadata": {},
   "outputs": [
    {
     "data": {
      "text/plain": [
       "2"
      ]
     },
     "execution_count": 245,
     "metadata": {},
     "output_type": "execute_result"
    }
   ],
   "source": [
    "start = timeit.default_timer()\n",
    "\n",
    "# KNN on PCA array\n",
    "neigh = NearestNeighbors(n_neighbors=3)\n",
    "neigh.fit(count_array_pca)\n",
    "a = neigh.kneighbors(count_array_pca, return_distance=False)\n",
    "cluster_pca = gather_neighbors(a)\n",
    "len(cluster_pca)"
   ]
  },
  {
   "cell_type": "code",
   "execution_count": 246,
   "id": "580b4413",
   "metadata": {},
   "outputs": [],
   "source": [
    "# Obtain Predicted labels\n",
    "knn_pca = np.zeros(count_array_pca.shape[0])\n",
    "for i in range(len(cluster_pca)):\n",
    "    for j in cluster_pca[i]:\n",
    "        knn_pca[j] = i\n",
    "knn_pca\n",
    "\n",
    "stop = timeit.default_timer()\n",
    "# Record Run time\n",
    "knn_pca_time = stop - start"
   ]
  },
  {
   "cell_type": "code",
   "execution_count": 247,
   "id": "623efba0",
   "metadata": {},
   "outputs": [
    {
     "data": {
      "text/plain": [
       "6"
      ]
     },
     "execution_count": 247,
     "metadata": {},
     "output_type": "execute_result"
    }
   ],
   "source": [
    "start = timeit.default_timer()\n",
    "\n",
    "# KNN on PCA array\n",
    "neigh = NearestNeighbors(n_neighbors=3)\n",
    "neigh.fit(count_array_ZIFA)\n",
    "b = neigh.kneighbors(count_array_ZIFA, return_distance=False)\n",
    "cluster_ZIFA = gather_neighbors(b)\n",
    "len(cluster_ZIFA)"
   ]
  },
  {
   "cell_type": "code",
   "execution_count": 248,
   "id": "6aec4762",
   "metadata": {},
   "outputs": [],
   "source": [
    "# Obtain Predicted labels\n",
    "knn_ZIFA = np.zeros(count_array_ZIFA.shape[0])\n",
    "for i in range(len(cluster_ZIFA)):\n",
    "    for j in cluster_ZIFA[i]:\n",
    "        knn_ZIFA[j] = i\n",
    "\n",
    "stop = timeit.default_timer()\n",
    "# Record Run time\n",
    "knn_ZIFA_time = stop - start"
   ]
  },
  {
   "cell_type": "markdown",
   "id": "9df8e4f4",
   "metadata": {},
   "source": [
    "## Gaussian Mixure Model"
   ]
  },
  {
   "cell_type": "code",
   "execution_count": 252,
   "id": "625bff9a",
   "metadata": {},
   "outputs": [],
   "source": [
    "start = timeit.default_timer()\n",
    "\n",
    "# Gaussian Mixure Model on PCA array\n",
    "gm_pca = GaussianMixture(n_components=5, random_state=0).fit(count_array_pca)\n",
    "# Obtain Predicted labels\n",
    "gm_pca_pred = gm_pca.predict(count_array_pca)\n",
    "\n",
    "stop = timeit.default_timer()\n",
    "# Record Run time\n",
    "gm_pca_time = stop - start"
   ]
  },
  {
   "cell_type": "code",
   "execution_count": 253,
   "id": "75f37c7a",
   "metadata": {},
   "outputs": [],
   "source": [
    "start = timeit.default_timer()\n",
    "\n",
    "# Gaussian Mixure Model on ZIFA array\n",
    "gm_ZIFA = GaussianMixture(n_components=5, random_state=0).fit(count_array_ZIFA)\n",
    "# Obtain Predicted labels\n",
    "gm_ZIFA_pred = gm_ZIFA.predict(count_array_ZIFA)\n",
    "\n",
    "stop = timeit.default_timer()\n",
    "# Record Run time\n",
    "gm_ZIFA_time = stop - start"
   ]
  },
  {
   "cell_type": "markdown",
   "id": "c446f27d",
   "metadata": {},
   "source": [
    "## Compute Accuracy and Generate Plots"
   ]
  },
  {
   "cell_type": "code",
   "execution_count": 211,
   "id": "698b189b",
   "metadata": {},
   "outputs": [],
   "source": [
    "def assign_label(pred, label):\n",
    "    \"\"\"\n",
    "    This function is used to assign label of clusters in pred by the majority of cells in it.\n",
    "    \"\"\"\n",
    "    new_cluster = []\n",
    "    for i in range(len(set(pred))):\n",
    "        indexes = [j for j,x in enumerate(pred) if x == i]\n",
    "        counts = np.bincount(label[indexes]) \n",
    "        new_cluster.append(np.argmax(counts))\n",
    "    new_label = []\n",
    "    for k in range(len(pred)):\n",
    "        old_label = pred[k]\n",
    "        new_label.append(new_cluster[old_label])\n",
    "    return new_label"
   ]
  },
  {
   "cell_type": "code",
   "execution_count": 218,
   "id": "76740205",
   "metadata": {},
   "outputs": [],
   "source": [
    "# Assign new labels to clusters using hierarchical clustering on PCA data\n",
    "hc_pca_pred2 = assign_label(np.array(hc_pca_pred), np.array(new_label))\n",
    "# accuracy for test data using hierarchical clustering on PCA data\n",
    "hc_pca_acc = accuracy_score(np.array(new_label), np.array(hc_pca_pred2))"
   ]
  },
  {
   "cell_type": "code",
   "execution_count": 222,
   "id": "6dffbd57",
   "metadata": {},
   "outputs": [],
   "source": [
    "# Assign new labels to clusters using hierarchical clustering on ZIFA data\n",
    "hc_ZIFA_pred2 = assign_label(np.array(hc_ZIFA_pred), np.array(new_label))\n",
    "# accuracy for test data using hierarchical clustering on ZIFA data\n",
    "hc_ZIFA_acc = accuracy_score(np.array(new_label), np.array(hc_ZIFA_pred2))"
   ]
  },
  {
   "cell_type": "code",
   "execution_count": 223,
   "id": "78c05e7a",
   "metadata": {},
   "outputs": [],
   "source": [
    "# Assign new labels to clusters using K means on PCA data\n",
    "kmeans_pca_pred2 = assign_label(np.array(kmeans_pca_pred), np.array(new_label))\n",
    "# accuracy for test data using K means on PCA data\n",
    "kmeans_pca_acc = accuracy_score(np.array(new_label), np.array(kmeans_pca_pred2))"
   ]
  },
  {
   "cell_type": "code",
   "execution_count": 224,
   "id": "02a67e96",
   "metadata": {},
   "outputs": [],
   "source": [
    "# Assign new labels to clusters using K means on ZIFA data\n",
    "kmeans_ZIFA_pred2 = assign_label(np.array(kmeans_ZIFA_pred), np.array(new_label))\n",
    "# accuracy for test data using K means on ZIFA data\n",
    "kmeans_ZIFA_acc = accuracy_score(np.array(new_label), np.array(kmeans_ZIFA_pred2))"
   ]
  },
  {
   "cell_type": "code",
   "execution_count": 226,
   "id": "0520e343",
   "metadata": {},
   "outputs": [],
   "source": [
    "# Assign new labels to clusters using KNN on PCA data\n",
    "knn_pca2 = assign_label(np.array(knn_pca).astype('int8'), np.array(new_label))\n",
    "# accuracy for test data using KNN on PCA data\n",
    "knn_pca_acc = accuracy_score(np.array(new_label), np.array(knn_pca2).astype('int8'))"
   ]
  },
  {
   "cell_type": "code",
   "execution_count": 227,
   "id": "b50b1e44",
   "metadata": {},
   "outputs": [],
   "source": [
    "# Assign new labels to clusters using KNN on ZIFA data\n",
    "knn_ZIFA2 = assign_label(np.array(knn_ZIFA).astype('int8'), np.array(new_label))\n",
    "# accuracy for test data using KNN on ZIFA data\n",
    "knn_ZIFA_acc = accuracy_score(np.array(new_label), np.array(knn_ZIFA2).astype('int8'))"
   ]
  },
  {
   "cell_type": "code",
   "execution_count": 231,
   "id": "d26e4f1b",
   "metadata": {},
   "outputs": [],
   "source": [
    "# Assign new labels to clusters using GMM on PCA data\n",
    "gm_pca_pred2 = assign_label(np.array(gm_pca_pred), np.array(new_label))\n",
    "# accuracy for test data using GMM on PCA data\n",
    "gm_pca_acc = accuracy_score(np.array(new_label), np.array(gm_pca_pred2))"
   ]
  },
  {
   "cell_type": "code",
   "execution_count": 232,
   "id": "2c938f93",
   "metadata": {},
   "outputs": [],
   "source": [
    "# Assign new labels to clusters using GMM on ZIFA data\n",
    "gm_ZIFA_pred2 = assign_label(np.array(gm_ZIFA_pred), np.array(new_label))\n",
    "# accuracy for test data using GMM on ZIFA data\n",
    "gm_ZIFA_acc = accuracy_score(np.array(new_label), np.array(gm_ZIFA_pred2))"
   ]
  },
  {
   "cell_type": "code",
   "execution_count": 236,
   "id": "0cdfd15f",
   "metadata": {},
   "outputs": [
    {
     "data": {
      "text/plain": [
       "<AxesSubplot:title={'center':'Bar Chart of Accuracy Score Across Different Algrothms by PCA or ZIFA Transformation'}, xlabel='Algorithm'>"
      ]
     },
     "execution_count": 236,
     "metadata": {},
     "output_type": "execute_result"
    },
    {
     "data": {
      "image/png": "[encoded data removed]",
      "text/plain": [
       "<Figure size 432x288 with 1 Axes>"
      ]
     },
     "metadata": {
      "needs_background": "light"
     },
     "output_type": "display_data"
    }
   ],
   "source": [
    "# Generate Dataframe for plotting\n",
    "df = pd.DataFrame([['Hierarchical Clustering', hc_pca_acc, hc_ZIFA_acc], \n",
    "                   ['K means', kmeans_pca_acc, kmeans_ZIFA_acc],\n",
    "                   ['KNN', knn_pca_acc, knn_ZIFA_acc], \n",
    "                   ['GMM', gm_pca_acc, gm_ZIFA_acc]],\n",
    "                  columns=['Algorithm', 'PCA', 'ZIFA'])\n",
    "# Plot grouped bar chart for Figure 1\n",
    "df.plot(x='Algorithm',\n",
    "        kind='bar',\n",
    "        stacked=False,\n",
    "        title='Bar Chart of Accuracy Score Across Different Algrothms by PCA or ZIFA Transformation')\n",
    "\n"
   ]
  },
  {
   "cell_type": "code",
   "execution_count": 254,
   "id": "9462e9bd",
   "metadata": {},
   "outputs": [
    {
     "data": {
      "text/plain": [
       "<AxesSubplot:title={'center':'Bar Chart of Run Time Across Different Algrothms by PCA or ZIFA Transformation'}, xlabel='Algorithm'>"
      ]
     },
     "execution_count": 254,
     "metadata": {},
     "output_type": "execute_result"
    },
    {
     "data": {
      "image/png": "[encoded data removed]",
      "text/plain": [
       "<Figure size 432x288 with 1 Axes>"
      ]
     },
     "metadata": {
      "needs_background": "light"
     },
     "output_type": "display_data"
    }
   ],
   "source": [
    "# Generate Dataframe for plotting\n",
    "df = pd.DataFrame([['Hierarchical Clustering', hc_pca_time, hc_ZIFA_time], \n",
    "                   ['K means', kmeans_pca_time, kmeans_ZIFA_time],\n",
    "                   ['KNN', knn_pca_time, knn_ZIFA_time], \n",
    "                   ['GMM', gm_pca_time, gm_ZIFA_time]],\n",
    "                  columns=['Algorithm', 'PCA', 'ZIFA'])\n",
    "\n",
    "# Plot grouped bar chart for Figure 2\n",
    "df.plot(x='Algorithm',\n",
    "        kind='bar',\n",
    "        stacked=False,\n",
    "        title='Bar Chart of Run Time Across Different Algrothms by PCA or ZIFA Transformation')\n"
   ]
  },
  {
   "cell_type": "code",
   "execution_count": null,
   "id": "4fc554a2",
   "metadata": {},
   "outputs": [],
   "source": []
  }
 ],
 "metadata": {
  "kernelspec": {
   "display_name": "Python 3",
   "language": "python",
   "name": "python3"
  },
  "language_info": {
   "codemirror_mode": {
    "name": "ipython",
    "version": 3
   },
   "file_extension": ".py",
   "mimetype": "text/x-python",
   "name": "python",
   "nbconvert_exporter": "python",
   "pygments_lexer": "ipython3",
   "version": "3.8.8"
  }
 },
 "nbformat": 4,
 "nbformat_minor": 5
}
